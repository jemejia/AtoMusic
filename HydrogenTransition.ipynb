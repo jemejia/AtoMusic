{
 "cells": [
  {
   "cell_type": "code",
   "execution_count": 204,
   "metadata": {},
   "outputs": [],
   "source": [
    "import pandas as pd\n",
    "import numpy as np\n",
    "\n",
    "df_h=pd.read_excel(\"Hydrogen_transition_probabilities_v1.xls\")\n",
    "df_h=df_h.query(\"upper_level<=20\" )\n"
   ]
  },
  {
   "cell_type": "code",
   "execution_count": 206,
   "metadata": {},
   "outputs": [],
   "source": [
    "recompute_cumulative_transition_prob=False\n",
    "if recompute_cumulative_transition_prob:\n",
    "    df_h=df_h.sort_values(['upper_level','lower_level'])\n",
    "\n",
    "    df_h['TransProbEsp']=df_h['TransProbEsp'].astype(str).str.replace('−','-').astype(float)\n",
    "\n",
    "    df_h['CumulativeTransProbEsp']=df_h.groupby('upper_level')['TransProbEsp'].cumsum()/df_h.groupby('upper_level')['TransProbEsp'].transform(sum)\n",
    "\n",
    "    df_h['CumulativeTransProbEsp_low']=df_h.groupby('upper_level')['CumulativeTransProbEsp'].shift(1).replace(np.nan,0)\n",
    "    "
   ]
  },
  {
   "cell_type": "code",
   "execution_count": 220,
   "metadata": {},
   "outputs": [],
   "source": [
    "def gen_transition(n0,df_h):\n",
    "    r=np.random.rand()\n",
    "    df_h_transition=df_h[df_h.upper_level==n0]\n",
    "    w_r=df_h_transition.apply(lambda x: r>x['CumulativeTransProbEsp_low'] and r<=x['CumulativeTransProbEsp'],axis=1)\n",
    "    #print(list(df_h_transition.loc[w_r,['lower_level','Transition']].iloc[0].values))\n",
    "    nf,transition=list(df_h_transition.loc[w_r,['lower_level','Transition']].iloc[0].values)\n",
    "    #print(nf)\n",
    "    return nf,transition\n",
    "def gen_transition_sequence(n0,df_h):\n",
    "    nf=n0\n",
    "    sequence=[]\n",
    "    while nf!=1:\n",
    "        nf,transition=gen_transition(nf,df_h)\n",
    "        sequence.append(transition)\n",
    "    return sequence\n",
    "def get_sequence_energies(sequence,df_h):\n",
    "    return list(df_h.set_index('Transition').loc[sequence,'dE'].values)\n",
    "def get_sequence_lifetimes(sequence,df_h):\n",
    "    return list(1.0/df_h.set_index('Transition').loc[sequence,'TransProbEsp'].values)"
   ]
  },
  {
   "cell_type": "code",
   "execution_count": 232,
   "metadata": {},
   "outputs": [],
   "source": [
    "n0=20\n",
    "sequence=gen_transition_sequence(n0,df_h)\n",
    "sequence_energies=get_sequence_energies(sequence,df_h)\n",
    "sequence_lifetimes=get_sequence_lifetimes(sequence,df_h)"
   ]
  },
  {
   "cell_type": "code",
   "execution_count": 233,
   "metadata": {},
   "outputs": [
    {
     "name": "stdout",
     "output_type": "stream",
     "text": [
      "sequence=['6–20', '5–6', '3–5', '1–3']\n",
      " Energies=[0.34377777777777774, 0.16622222222222227, 0.967111111111111, 12.088888888888889]\n",
      " Lifetimes[118709.86122817222, 97.52291788570315, 45.43802253725918, 1.7936897992861116]\n"
     ]
    }
   ],
   "source": [
    "print(f\"sequence={sequence}\\n Energies={sequence_energies}\\n Lifetimes{sequence_lifetimes}\")"
   ]
  },
  {
   "cell_type": "code",
   "execution_count": null,
   "metadata": {},
   "outputs": [],
   "source": [
    "#Lifetimes are too disimilar, longtimes between transitions. "
   ]
  },
  {
   "cell_type": "code",
   "execution_count": null,
   "metadata": {},
   "outputs": [],
   "source": []
  }
 ],
 "metadata": {
  "kernelspec": {
   "display_name": "Python 3",
   "language": "python",
   "name": "python3"
  },
  "language_info": {
   "codemirror_mode": {
    "name": "ipython",
    "version": 3
   },
   "file_extension": ".py",
   "mimetype": "text/x-python",
   "name": "python",
   "nbconvert_exporter": "python",
   "pygments_lexer": "ipython3",
   "version": "3.7.1"
  }
 },
 "nbformat": 4,
 "nbformat_minor": 4
}
